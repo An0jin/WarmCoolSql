{
 "cells": [
  {
   "cell_type": "code",
   "execution_count": null,
   "metadata": {},
   "outputs": [],
   "source": [
    "%pip install psycopg2 "
   ]
  },
  {
   "cell_type": "code",
   "execution_count": 1,
   "metadata": {},
   "outputs": [],
   "source": [
    "import psycopg2\n",
    "import os"
   ]
  },
  {
   "cell_type": "code",
   "execution_count": 9,
   "metadata": {},
   "outputs": [],
   "source": [
    "def connect():\n",
    "    return psycopg2.connect(host=os.getenv(\"MakeUpHost\"),\n",
    "                            port=int(os.getenv(\"MakeUpPort\")),\n",
    "                            user=os.getenv(\"MakeUpUser\"),\n",
    "                            password=os.getenv(\"MakeUpPassword\"),\n",
    "                            dbname=os.getenv(\"MakeUpDBname\"))"
   ]
  },
  {
   "cell_type": "code",
   "execution_count": 7,
   "metadata": {},
   "outputs": [],
   "source": [
    "with connect() as conn:\n",
    "    cursor=conn.cursor()\n",
    "    with open(\"createColor.sql\") as f:\n",
    "        cursor.execute(f.read())\n",
    "    conn.commit()"
   ]
  },
  {
   "cell_type": "code",
   "execution_count": null,
   "metadata": {},
   "outputs": [],
   "source": [
    "with connect() as conn:\n",
    "    cursor=conn.cursor()\n",
    "    with open(\"createColor.sql\") as f:\n",
    "        cursor.execute(f.read())\n",
    "    conn.commit()"
   ]
  },
  {
   "cell_type": "code",
   "execution_count": 10,
   "metadata": {},
   "outputs": [],
   "source": [
    "with connect() as conn:\n",
    "    cursor=conn.cursor()\n",
    "    with open(\"createUser.sql\") as f:\n",
    "        cursor.execute(f.read())"
   ]
  },
  {
   "cell_type": "code",
   "execution_count": 11,
   "metadata": {},
   "outputs": [],
   "source": [
    "with connect() as conn:\n",
    "    cursor=conn.cursor()\n",
    "    with open(\"createChat.sql\") as f:\n",
    "        cursor.execute(f.read())"
   ]
  }
 ],
 "metadata": {
  "kernelspec": {
   "display_name": "Python 3",
   "language": "python",
   "name": "python3"
  },
  "language_info": {
   "codemirror_mode": {
    "name": "ipython",
    "version": 3
   },
   "file_extension": ".py",
   "mimetype": "text/x-python",
   "name": "python",
   "nbconvert_exporter": "python",
   "pygments_lexer": "ipython3",
   "version": "3.11.9"
  }
 },
 "nbformat": 4,
 "nbformat_minor": 2
}
